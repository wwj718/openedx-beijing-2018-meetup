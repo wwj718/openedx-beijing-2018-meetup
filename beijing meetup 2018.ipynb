{
 "cells": [
  {
   "cell_type": "markdown",
   "metadata": {
    "slideshow": {
     "slide_type": "slide"
    }
   },
   "source": [
    "# 连接micro:bit\n",
    "*  打开电脑的蓝牙\n",
    "*  点击右边的连接按钮\n",
    "\n",
    "\n",
    "<button id=\"ble_button\" style=\"color:blue\">连接</button>"
   ]
  },
  {
   "cell_type": "markdown",
   "metadata": {
    "slideshow": {
     "slide_type": "slide"
    }
   },
   "source": [
    "# Open edX现状与未来\n",
    "*  Open edX架构调整\n",
    "*  前后端分离\n",
    "*  容器化\n",
    "*  2018会议上有趣话题"
   ]
  },
  {
   "cell_type": "markdown",
   "metadata": {
    "slideshow": {
     "slide_type": "slide"
    }
   },
   "source": [
    "# about me(wwj718/种瓜)\n",
    "## 兴趣\n",
    "*  开源硬件、积木化编程、物联网、AI、安全、开源与教育\n",
    "*  骑车、徒步\n",
    "*  科幻、哲学、近体诗\n",
    "\n",
    "## Github and Blog\n",
    "- [blog.just4fun.site](http://blog.just4fun.site)\n",
    "- [github.com/wwj718](github.com/wwj718)\n",
    "\n",
    "## Contact\n",
    "- Email: [wuwenjie718@gmail.com]((mailto:wuwenjie718@gmail.com)\n"
   ]
  },
  {
   "cell_type": "markdown",
   "metadata": {
    "slideshow": {
     "slide_type": "slide"
    }
   },
   "source": [
    "# Open edX\n",
    ">  The future of education is open source"
   ]
  },
  {
   "cell_type": "markdown",
   "metadata": {
    "slideshow": {
     "slide_type": "slide"
    }
   },
   "source": [
    "# Open edX架构调整"
   ]
  },
  {
   "cell_type": "markdown",
   "metadata": {
    "slideshow": {
     "slide_type": "slide"
    }
   },
   "source": [
    "![](http://oav6fgfj1.bkt.clouddn.com/edx2018_761a7fa6.png)"
   ]
  },
  {
   "cell_type": "markdown",
   "metadata": {
    "slideshow": {
     "slide_type": "slide"
    }
   },
   "source": [
    "![](http://oav6fgfj1.bkt.clouddn.com/edx2018_a18e84b0.png)"
   ]
  },
  {
   "cell_type": "markdown",
   "metadata": {
    "slideshow": {
     "slide_type": "slide"
    }
   },
   "source": [
    "![](http://oav6fgfj1.bkt.clouddn.com/edx2018_404d1a0c.png)"
   ]
  },
  {
   "cell_type": "markdown",
   "metadata": {
    "slideshow": {
     "slide_type": "slide"
    }
   },
   "source": [
    "# 生态系统\n",
    "![](http://oav6fgfj1.bkt.clouddn.com/openedx_c9ea97ac.png)"
   ]
  },
  {
   "cell_type": "markdown",
   "metadata": {
    "slideshow": {
     "slide_type": "slide"
    }
   },
   "source": [
    "# 前后端分离"
   ]
  },
  {
   "cell_type": "markdown",
   "metadata": {
    "slideshow": {
     "slide_type": "slide"
    }
   },
   "source": [
    "# 技术栈\n",
    "![](http://oav6fgfj1.bkt.clouddn.com/edx2018_a2d77153.png)"
   ]
  },
  {
   "cell_type": "markdown",
   "metadata": {
    "slideshow": {
     "slide_type": "slide"
    }
   },
   "source": [
    "# 文件统计（open edx所有相关项目）（2018.05）\n",
    "![](http://oav6fgfj1.bkt.clouddn.com/edx2018_57aa40ff.png)"
   ]
  },
  {
   "cell_type": "markdown",
   "metadata": {
    "slideshow": {
     "slide_type": "slide"
    }
   },
   "source": [
    "# 文件统计(edx-platform)\n",
    "![](http://oav6fgfj1.bkt.clouddn.com/edx2018_7aa4880a.png)"
   ]
  },
  {
   "cell_type": "markdown",
   "metadata": {
    "slideshow": {
     "slide_type": "slide"
    }
   },
   "source": [
    "# 代码行数统计(edx-platform)\n",
    "![](http://oav6fgfj1.bkt.clouddn.com/edx2018_26fb0c28.png)"
   ]
  },
  {
   "cell_type": "markdown",
   "metadata": {
    "slideshow": {
     "slide_type": "slide"
    }
   },
   "source": [
    "\n",
    "![](http://oav6fgfj1.bkt.clouddn.com/edx2018_2c9d1bb0.png)"
   ]
  },
  {
   "cell_type": "markdown",
   "metadata": {
    "slideshow": {
     "slide_type": "slide"
    }
   },
   "source": [
    "\n",
    "![](http://oav6fgfj1.bkt.clouddn.com/edx2018_64ced8eb.png)"
   ]
  },
  {
   "cell_type": "markdown",
   "metadata": {
    "slideshow": {
     "slide_type": "slide"
    }
   },
   "source": [
    "# 架构目标\n",
    "![](http://oav6fgfj1.bkt.clouddn.com/edx2018_63547bab.png)"
   ]
  },
  {
   "cell_type": "markdown",
   "metadata": {
    "slideshow": {
     "slide_type": "slide"
    }
   },
   "source": [
    "# 演进过程\n",
    "![](http://oav6fgfj1.bkt.clouddn.com/edx2018_cbd993df.png)"
   ]
  },
  {
   "cell_type": "markdown",
   "metadata": {
    "slideshow": {
     "slide_type": "slide"
    }
   },
   "source": [
    "# 容器化"
   ]
  },
  {
   "cell_type": "markdown",
   "metadata": {
    "slideshow": {
     "slide_type": "slide"
    }
   },
   "source": [
    "![](http://oav6fgfj1.bkt.clouddn.com/edx2018_74a41e32.png)"
   ]
  },
  {
   "cell_type": "markdown",
   "metadata": {
    "slideshow": {
     "slide_type": "slide"
    }
   },
   "source": [
    "# 官方进展\n",
    ">  Devstack is now based on Docker rather than Vagrant\n",
    "\n",
    "*  [devstack](https://github.com/edx/devstack)\n",
    "  *  [Open edX Devstack](https://edx.readthedocs.io/projects/edx-installing-configuring-and-running/en/open-release-hawthorn.master/installation/installation_options.html#open-edx-devstack)\n",
    "  *  [Open edX Analytics Devstack](https://edx.readthedocs.io/projects/edx-installing-configuring-and-running/en/open-release-hawthorn.master/installation/installation_options.html#open-edx-analytics-devstack)"
   ]
  },
  {
   "cell_type": "markdown",
   "metadata": {
    "slideshow": {
     "slide_type": "slide"
    }
   },
   "source": [
    "# devstack\n",
    "*  The Learning Management System (LMS)\n",
    "*  Open edX Studio\n",
    "*  Discussion Forums\n",
    "*  Open Response Assessments (ORA)\n",
    "*  E-Commerce\n",
    "*  Credentials\n",
    "*  Notes\n",
    "*  Course Discovery\n",
    "*  XQueue\n",
    "*  Open edX Search\n",
    "*  A demonstration Open edX course"
   ]
  },
  {
   "cell_type": "markdown",
   "metadata": {
    "slideshow": {
     "slide_type": "slide"
    }
   },
   "source": [
    "# Open edX Analytics Devstack\n",
    "*  Open edX Analytics Data API\n",
    "*  Open edX Insights\n",
    "*  运行Open edX Analytics Pipeline所需的组件"
   ]
  },
  {
   "cell_type": "markdown",
   "metadata": {
    "slideshow": {
     "slide_type": "slide"
    }
   },
   "source": [
    "# 社区进展\n",
    "参考[Open edX的容器化之路](https://blog.just4fun.site/open-edx-docker-2018.html)\n",
    "<!--[盘点Open edX社区中拥抱开源的公司及值得关注的项目](https://blog.just4fun.site/edx-community-members.html)-->\n",
    "*  [arnold](https://github.com/openfun/arnold)\n",
    "    *  来自openfun: 法国最大的mooc平台, 已经用于生产环境\n",
    "    *  >  Arnold is a tool to deploy dockerized applications to OpenShift with Ansible.\n",
    "    *  [Running Open edX in production with Docker](https://openedx2018.sched.com/event/EUAP/running-open-edx-in-production-with-docker)\n",
    "*  [regisb](https://github.com/regisb)的[openedx-docker](https://github.com/regisb/openedx-docker)\n",
    "    *  >  1-click universal Open edX install, for production and local development + Android app (based on Docker)"
   ]
  },
  {
   "cell_type": "markdown",
   "metadata": {
    "slideshow": {
     "slide_type": "slide"
    }
   },
   "source": [
    "# 我的实验\n",
    "*  Open edX + docker + production : [Open edX docker生产环境](https://blog.just4fun.site/openedx-docker-production.html)\n",
    "*  k8s: [将Open edX部署到Kubernetes上的踩坑笔记](https://blog.just4fun.site/openedx-docker-k8s.html)\n",
    "    *  正在忽悠regisb"
   ]
  },
  {
   "cell_type": "markdown",
   "metadata": {
    "slideshow": {
     "slide_type": "slide"
    }
   },
   "source": [
    "![](http://oav6fgfj1.bkt.clouddn.com/k8s_8c21fb35.png)"
   ]
  },
  {
   "cell_type": "markdown",
   "metadata": {
    "slideshow": {
     "slide_type": "slide"
    }
   },
   "source": [
    "# Open edX 2018 会议上的其他有趣话题\n",
    "参考:[盘点Open edX社区中拥抱开源的公司及值得关注的项目](https://blog.just4fun.site/edx-community-members.html)\n",
    "\n",
    "*  [open source web conferencing system for online learning](https://docs.google.com/presentation/d/1WLcXW4aYsXzyROr-GhvoalaL01QgJ1NArmPIRt80Dpk/edit#slide=id.g1cf1cad65c_0_86) 在线教学、在线会议\n",
    "*  [Jupyter-based courses in Open edX](https://figshare.com/articles/Jupyter-based_courses_in_Open_edX_Authoring_and_grading_with_notebooks/6553550/1) jupyter\n",
    "*  [Slides: Slack for Open edX? Using \"Rocket Chat\" as an alternative to discussion groups](https://openedx.atlassian.net/wiki/download/attachments/756384075/Slack_for_Open%20edX.pdf?version=1&modificationDate=1528382758057&cacheVersion=1&api=v2)  使用Rocket Chat替代论坛\n",
    "*  [Slides: Documentorum: using the power of blockchain for academic accreditation](https://openedx.atlassian.net/wiki/download/attachments/756384075/documentorum.pdf?version=1&modificationDate=1528311984515&cacheVersion=1&api=v2) 区块链  学术认证\n",
    "*  [Slides: Richie, a CMS for Open edX](https://openfun.github.io/openedx-con-2018/talks/richie/#/) CMS、主页\n",
    "*  [Integrating open edX with your Website](https://slides.com/juancamilomontoya/integrating-open-edx-with-your-website-or-cms#/) cookie 网站集成"
   ]
  },
  {
   "cell_type": "markdown",
   "metadata": {
    "slideshow": {
     "slide_type": "slide"
    }
   },
   "source": [
    "# Thanks\n",
    "<script src=\"microbit_ble.js\"></script>"
   ]
  }
 ],
 "metadata": {
  "kernelspec": {
   "display_name": "Python 3",
   "language": "python",
   "name": "python3"
  },
  "language_info": {
   "codemirror_mode": {
    "name": "ipython",
    "version": 3
   },
   "file_extension": ".py",
   "mimetype": "text/x-python",
   "name": "python",
   "nbconvert_exporter": "python",
   "pygments_lexer": "ipython3",
   "version": "3.6.5"
  }
 },
 "nbformat": 4,
 "nbformat_minor": 2
}
